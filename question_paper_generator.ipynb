{
 "cells": [
  {
   "cell_type": "markdown",
   "metadata": {
    "toc": true
   },
   "source": [
    "<h1>Table of Contents<span class=\"tocSkip\"></span></h1>\n",
    "<div class=\"toc\"><ul class=\"toc-item\"><li><span><a href=\"#Converting-HTML-into-markdown\" data-toc-modified-id=\"Converting-HTML-into-markdown-1\"><span class=\"toc-item-num\">1&nbsp;&nbsp;</span>Converting HTML into markdown</a></span></li></ul></div>"
   ]
  },
  {
   "cell_type": "code",
   "execution_count": 1,
   "metadata": {},
   "outputs": [],
   "source": [
    "import markdown\n",
    "from bs4 import BeautifulSoup\n"
   ]
  },
  {
   "cell_type": "code",
   "execution_count": 135,
   "metadata": {},
   "outputs": [],
   "source": [
    "html = markdown.markdown(open(\"probability.md\").read())"
   ]
  },
  {
   "cell_type": "code",
   "execution_count": 136,
   "metadata": {},
   "outputs": [],
   "source": [
    "text= \"\".join(BeautifulSoup(html).findAll(text=True))"
   ]
  },
  {
   "cell_type": "code",
   "execution_count": 137,
   "metadata": {},
   "outputs": [],
   "source": [
    "qlist=text.split('Q.')"
   ]
  },
  {
   "cell_type": "code",
   "execution_count": 138,
   "metadata": {},
   "outputs": [
    {
     "data": {
      "text/plain": [
       "['',\n",
       " '1 There is a fair coin (one side heads, one side tails) and an unfair coin (both sides tails). You pick one at random, flip it 5 times, and observe that it comes up as tails all five times. What is the chance that you are flipping the unfair coin?(Facebook)\\nA.  This is good fundamental question. You can solve it using probability.\\n',\n",
       " '2 https://www.toppr.com/ask/question/eight-players-p1-p2-p3-p8-play-a-knockout-tournament-it-is-known/\\nhttps://www.openbookpublishers.com/htmlreader/978-1-78374-142-7/Chapters/P65.html#:~:text=It%20is%20organised%20as%20a,start%20of%20the%20%EF%AC%81rst%20round.\\n',\n",
       " '3 Balls and Boxes problem. Find number of  ways\\nFive balls are to be placed in three boxes in how many diff. ways can be placed the balls so that no box remains empty if (i) balls and boxes are diff, (ii) balls identical and boxes diff. (iii) balls diff and boxes identical (iv) balls as well as boxes are identical  \\nhttps://www.hitbullseye.com/Quant/Permutation-and-Combination-Concept.php\\n',\n",
       " '4. Two persons A and B agree to meet at a place between 11 to 12 noon. The first one to arrive waits for 20 minutes and then leave. if the time of their arrival be independent and at random, then the probabity that A and B meet is\\nA. https://www.quora.com/A-and-B-decide-to-meet-between-1-pm-and-2-pm-on-a-given-day-Whoever-arrives-first-will-not-wait-for-the-other-for-more-than-15-minutes-Whats-the-probability-that-they-will-meet-that-day-and-why/answer/HV-Mishra\\nhttps://www.geeksforgeeks.org/probability-that-two-persons-will-meet/\\n',\n",
       " '5. Amazon. Expected time to reach earth by demogorgans. There are three paths. One path leads to earth in one day. Other one takes one day and reach at the same spot. third one takes 2 days and reach the same spots.\\n',\n",
       " '6. Say we have X ~ Uniform(0, 1) and Y ~ Uniform(0, 1). What is the expected value of the minimum of X and Y?(Google)\\nA. https://www.quora.com/Say-we-have-X-Uniform-0-1-and-Y-Uniform-0-1-What-is-the-expected-value-of-the-minimum-of-X-and-Y\\nhttps://math.stackexchange.com/questions/197299/expected-value-of-maximum-of-two-random-variables-from-uniform-distribution\\n',\n",
       " '7. Say we are given a list of several categories (for example, the strings: A, B, C, and D) and want to sample from a list of such categories according to a particular weighting scheme. Such an example would be: for 100 items total, we want to see A 20% of the time, B 15% of the time, C 35% of the time, and D 30% of the time. How do we simulate this? What if we care about an arbitrary number of categories and about memory usage?\\nA. Since version 1.7.0, NumPy has a choice function that supports probability distributions.\\nfrom numpy.random import choice\\ndraw = choice(list_of_candidates, number_of_items_to_pick,\\n              p=probability_distribution)\\nNote that probability_distribution is a sequence in the same order of list_of_candidates. You can also use the keyword replace=False to change the behavior so that drawn items are not replaced.\\n\\n',\n",
       " '8. What is the expected number of coin flips needed to get two consecutive heads?\\nA. Recommend All the answers in below\\nlink \\n',\n",
       " '9. Say you are given an unfair coin, with an unknown bias towards heads or tails. How can you generate fair odds using this coin?\\n',\n",
       " '10. Three ants are sitting at the corners of an equilateral triangle. Each ant randomly picks a direction and starts moving along the edge of the triangle. What is the probability that none of the ants collide? Now, what if it is k ants on all k corners of an equilateral polygon?\\nA. Since every ant has two choices (pick either of two edges going through the corner on which ant is initially sitting), there are total 23 possibilities.\\nOut of 23 possibilities, only 2 don’t cause collision. So, the probability of collision is 6/8 and the probability of non-collision is 2/8.\\n',\n",
       " '11. How many cards would you expect to draw from a standard deck before seeing the first ace?\\nA. https://math.stackexchange.com/questions/245354/expected-value-of-sums\\n',\n",
       " '12. Estimate the disease probability in one city given the probability is very low national wide. Randomly asked 1000 person in this city, with all negative response(NO disease). What is the probability of disease in this city?   \\n',\n",
       " '13. Suppose it is 8:00 AM and a flight is expected to land around then. The announcement says that the expected time to land anytime between 8:00 AM and 9:00 AM with uniform probability. You want to draw a plot of the probability of the flight landing before specific time t (Where t is some value between 8:00 AM and 9:00 AM). i.e t is on the X axis and the probability of the flight landing before t is on the Y axis.\\nWhat are some properties of this plot ?\\nA. Note that the random variable corresponding to the time of the landing of the flight is a continuous random variable taking values between 8:00 AM and 9:00 AM.\\nThe probability of the flight landing before a certain time is modelled by the cumulative distribution function. The CDF of a uniform distribution is a (a) continuous (b) non decreasing function.\\nNote that the CDF is 0 before 8AM and 1 after 9AM. You can interpret this as follows : The probability that the flight lands before 9:00 AM or any time after 9:00 AM is 1.\\nAlso note that for a uniform distribution, the CDF is a straight line with an increasing slope.\\n',\n",
       " '14. Suppose you are trying to determine the bias (p) of a coin. You model the outcome of a coin toss using the Bernoulli distribution with parameter p (probability of heads also called bias). p has a beta prior beta(1,1) which is similar to a uniform distribution from 0 to 1. You now compute the posterior after looking at 1000 tosses out of which 502 are heads and 498 are tails. Which of the following could be the posterior estimate of p ?\\nA. Lavanya. Before observing the data, we have a uniform prior on p between 0 and 1, which is means if we were to pick a value for p, 0.5 is the most meaningful value. Further a beta(1,1) is a rather uninformative weak prior, which means the posterior is heavily influenced by the 1000 data points and only mildly influenced by the prior.\\nHence, after observing 502 heads and 498 tails, we would expect the posterior estimate (mean of the posterior) to be close to 502/1000. The precise value would be (502+1)/(498+1) which can be rounded off to .502\\nTake a look at the following link for more information : https://towardsdatascience.com/visualizing-beta-distribution-7391c18031f1\\n',\n",
       " '15. prob of getting 3 heads in a sequence when a fair coin is tossed 5 times\\nA. \\nTotal number of possible events = 2^5 = 32\\nFrequency of exactly 3 heads (HHHT*, THHHT, *THHH) = 2+1+2 = 5\\nFrequency of exactly four consecutive heads (HHHHT, THHHH) = 2\\nFrequency of five consecutive heads = 1\\nFrequency of required events = 5+2+1 = 8\\nRequired probability = 8/32 = 1/4\\nhttps://www.quora.com/What-is-the-probability-of-getting-5-consecutive-heads-in-10-tosses-of-a-fair-coin\\n',\n",
       " '16. An exit poll in an election is a survey taken of voters just after they have voted. One major use of exit polls has been so that news organizations can try to figure out as soon as possible who won the election, before the votes are officially counted. This has been notoriously inaccurate in various elections, sometimes because of selection bias: the sample of people who are invited to and agree to participate in the survey may not be similar enough to the overall population of voters.\\nConsider an election with two candidates, Candidate A and Candidate B. Every voter is invited to participate in an exit poll, where they are asked whom they voted for; some accept and some refuse. For a randomly selected voter, let  𝐴  be the event that they voted for A, and  𝑊  be the event that they are willing to participate in the exit poll. Suppose that  𝑃(𝑊|𝐴)=0.7  but  𝑃(𝑊|𝐴𝑐)=0.3 . In the exit poll,  60%  of the respondents say they voted for A (assume that they are all honest), suggesting a comfortable victory for A. Find  𝑃(𝐴) , the true proportion of people who voted for A.\\nA. \\n',\n",
       " '17. Probability :Knock Out Tournament Of Ranked Players\\nhttps://math.stackexchange.com/questions/1569352/probability-knock-out-tournament-of-ranked-players   \\n',\n",
       " '18. Eight players P1,P2,..........P8 play a knockout tournament. It is known that whenever the players Pi and Pj play , the player Pi will win if i<j.\\nAssuming that the players are paired at random in each round, what is the probability that the players P4 reaches the final?\\nA. https://www.toppr.com/ask/question/eight-players-p1-p2-p3-p8-play-a-knockout-tournament-it-is-known/\\n',\n",
       " '19. https://math.stackexchange.com/questions/2757101/knockout-tournament-probability\\nhttps://math.stackexchange.com/questions/378084/a-probability-problem-involving-a-tournament\\nhttps://math.stackexchange.com/questions/911296/probability-in-a-knock-out-tournament\\nhttps://doubtnut.com/ncert-solutions/class-12-maths-chapter-13-probability-1 \\nhttps://doubtnut.com/ncert-solutions/class-12-maths-chapter-12-linear-programming-1\\nhttps://www.youtube.com/c/MathSolutionsForYou/playlists\\n',\n",
       " '20. I play a gambling game in which I will win k−2 dollars with probability 12k for any k∈ℕ, that is,\\nwith probability 12, I lose 1 dollar;\\nwith probability 14, I win 0 dollar;\\nwith probability 18, I win 1 dollar;\\nwith probability 116, I win 2 dollars;\\nwith probability 132, I win 3 dollars;\\n⋯\\nWhat is the probability that I win more than or equal to 1 dollar and less than 4 dollars? What is the probability that I win more than 2 dollars?\\nA. https://www.probabilitycourse.com/chapter1/1_3_4_discrete_models.php\\n:goal:\\n',\n",
       " '21. Consider a sample space that is the rectangular region  [0,1]×[0,2] , i.e., the set of all pairs  (𝑥,𝑦)  that satisfy  0≤𝑥≤1  and  0≤𝑦≤2 . Consider a “uniform\" probability law, under which the probability of an event is half of the area of the event. Find the probability of the following events:\\na) The two components  𝑥  and  𝑦  have the same values.\\nb) The value,  𝑥 , of the first component is larger than or equal to the value,  𝑦 , of the second component. \\nc) The value of  𝑥2  is larger than or equal to the value of  𝑦 .\\n',\n",
       " '22. Let the sample space be the set of positive integers and suppose that  𝐏(𝑛)=1/2𝑛 , for  𝑛=1,2,… . Find the probability of the set  {3,6,9,…} , that is, of the set of of positive integers that are multiples of  3 .\\nSolutions\\n\\n\\na) This event is a line, and since a line has zero area, the probability is zero.\\nb) This event is a triangle with vertices at  (0,0) ,  (1,0) ,  (1,1) . Its area is  1/2 , and therefore the probability is  1/4 .\\nc) This event corresponds to the region below the curve  𝑦=𝑥2 , where  𝑥  ranges from 0 to 1. The area of this region is\\n∫10𝑥2𝑑𝑥=𝑥33∣∣∣10=13, \\nand therefore the corresponding probability is  1/6 .\\n\\n\\nUsing countable additivity, and with 𝛼=2−3=1/8, the desired probability is\\n\\n\\n1/2ˆ3+1/2ˆ6+1/2ˆ9+⋯=𝛼+𝛼ˆ2+𝛼ˆ3+⋯= 𝛼/1−𝛼=(1/8)/(1−(1/8))=1/7.']"
      ]
     },
     "execution_count": 138,
     "metadata": {},
     "output_type": "execute_result"
    }
   ],
   "source": [
    "qlist"
   ]
  },
  {
   "cell_type": "code",
   "execution_count": 139,
   "metadata": {},
   "outputs": [],
   "source": [
    "# qlist[-1].split('A')"
   ]
  },
  {
   "cell_type": "code",
   "execution_count": 140,
   "metadata": {},
   "outputs": [
    {
     "data": {
      "text/plain": [
       "['3 Balls and Boxes problem. Find number of  ways\\nFive balls are to be placed in three boxes in how many diff. ways can be placed the balls so that no box remains empty if (i) balls and boxes are diff, (ii) balls identical and boxes diff. (iii) balls diff and boxes identical (iv) balls as well as boxes are identical  \\nhttps://www.hitbullseye.com/Quant/Permutation-and-Combination-Concept.php\\n']"
      ]
     },
     "execution_count": 140,
     "metadata": {},
     "output_type": "execute_result"
    }
   ],
   "source": [
    "qlist[3].split('?')"
   ]
  },
  {
   "cell_type": "code",
   "execution_count": 141,
   "metadata": {},
   "outputs": [],
   "source": [
    "qlist= [x.split('?')[0] for x in  qlist]"
   ]
  },
  {
   "cell_type": "code",
   "execution_count": 142,
   "metadata": {},
   "outputs": [
    {
     "data": {
      "text/plain": [
       "['1 There is a fair coin (one side heads, one side tails) and an unfair coin (both sides tails). You pick one at random, flip it 5 times, and observe that it comes up as tails all five times. What is the chance that you are flipping the unfair coin',\n",
       " '2 https://www.toppr.com/ask/question/eight-players-p1-p2-p3-p8-play-a-knockout-tournament-it-is-known/\\nhttps://www.openbookpublishers.com/htmlreader/978-1-78374-142-7/Chapters/P65.html#:~:text=It%20is%20organised%20as%20a,start%20of%20the%20%EF%AC%81rst%20round.\\n',\n",
       " '3 Balls and Boxes problem. Find number of  ways\\nFive balls are to be placed in three boxes in how many diff. ways can be placed the balls so that no box remains empty if (i) balls and boxes are diff, (ii) balls identical and boxes diff. (iii) balls diff and boxes identical (iv) balls as well as boxes are identical  \\nhttps://www.hitbullseye.com/Quant/Permutation-and-Combination-Concept.php\\n',\n",
       " '4. Two persons A and B agree to meet at a place between 11 to 12 noon. The first one to arrive waits for 20 minutes and then leave. if the time of their arrival be independent and at random, then the probabity that A and B meet is\\nA. https://www.quora.com/A-and-B-decide-to-meet-between-1-pm-and-2-pm-on-a-given-day-Whoever-arrives-first-will-not-wait-for-the-other-for-more-than-15-minutes-Whats-the-probability-that-they-will-meet-that-day-and-why/answer/HV-Mishra\\nhttps://www.geeksforgeeks.org/probability-that-two-persons-will-meet/\\n',\n",
       " '5. Amazon. Expected time to reach earth by demogorgans. There are three paths. One path leads to earth in one day. Other one takes one day and reach at the same spot. third one takes 2 days and reach the same spots.\\n',\n",
       " '6. Say we have X ~ Uniform(0, 1) and Y ~ Uniform(0, 1). What is the expected value of the minimum of X and Y',\n",
       " '7. Say we are given a list of several categories (for example, the strings: A, B, C, and D) and want to sample from a list of such categories according to a particular weighting scheme. Such an example would be: for 100 items total, we want to see A 20% of the time, B 15% of the time, C 35% of the time, and D 30% of the time. How do we simulate this',\n",
       " '8. What is the expected number of coin flips needed to get two consecutive heads',\n",
       " '9. Say you are given an unfair coin, with an unknown bias towards heads or tails. How can you generate fair odds using this coin',\n",
       " '10. Three ants are sitting at the corners of an equilateral triangle. Each ant randomly picks a direction and starts moving along the edge of the triangle. What is the probability that none of the ants collide',\n",
       " '11. How many cards would you expect to draw from a standard deck before seeing the first ace',\n",
       " '12. Estimate the disease probability in one city given the probability is very low national wide. Randomly asked 1000 person in this city, with all negative response(NO disease). What is the probability of disease in this city',\n",
       " '13. Suppose it is 8:00 AM and a flight is expected to land around then. The announcement says that the expected time to land anytime between 8:00 AM and 9:00 AM with uniform probability. You want to draw a plot of the probability of the flight landing before specific time t (Where t is some value between 8:00 AM and 9:00 AM). i.e t is on the X axis and the probability of the flight landing before t is on the Y axis.\\nWhat are some properties of this plot ',\n",
       " '14. Suppose you are trying to determine the bias (p) of a coin. You model the outcome of a coin toss using the Bernoulli distribution with parameter p (probability of heads also called bias). p has a beta prior beta(1,1) which is similar to a uniform distribution from 0 to 1. You now compute the posterior after looking at 1000 tosses out of which 502 are heads and 498 are tails. Which of the following could be the posterior estimate of p ',\n",
       " '15. prob of getting 3 heads in a sequence when a fair coin is tossed 5 times\\nA. \\nTotal number of possible events = 2^5 = 32\\nFrequency of exactly 3 heads (HHHT*, THHHT, *THHH) = 2+1+2 = 5\\nFrequency of exactly four consecutive heads (HHHHT, THHHH) = 2\\nFrequency of five consecutive heads = 1\\nFrequency of required events = 5+2+1 = 8\\nRequired probability = 8/32 = 1/4\\nhttps://www.quora.com/What-is-the-probability-of-getting-5-consecutive-heads-in-10-tosses-of-a-fair-coin\\n',\n",
       " '16. An exit poll in an election is a survey taken of voters just after they have voted. One major use of exit polls has been so that news organizations can try to figure out as soon as possible who won the election, before the votes are officially counted. This has been notoriously inaccurate in various elections, sometimes because of selection bias: the sample of people who are invited to and agree to participate in the survey may not be similar enough to the overall population of voters.\\nConsider an election with two candidates, Candidate A and Candidate B. Every voter is invited to participate in an exit poll, where they are asked whom they voted for; some accept and some refuse. For a randomly selected voter, let  𝐴  be the event that they voted for A, and  𝑊  be the event that they are willing to participate in the exit poll. Suppose that  𝑃(𝑊|𝐴)=0.7  but  𝑃(𝑊|𝐴𝑐)=0.3 . In the exit poll,  60%  of the respondents say they voted for A (assume that they are all honest), suggesting a comfortable victory for A. Find  𝑃(𝐴) , the true proportion of people who voted for A.\\nA. \\n',\n",
       " '17. Probability :Knock Out Tournament Of Ranked Players\\nhttps://math.stackexchange.com/questions/1569352/probability-knock-out-tournament-of-ranked-players   \\n',\n",
       " '18. Eight players P1,P2,..........P8 play a knockout tournament. It is known that whenever the players Pi and Pj play , the player Pi will win if i<j.\\nAssuming that the players are paired at random in each round, what is the probability that the players P4 reaches the final',\n",
       " '19. https://math.stackexchange.com/questions/2757101/knockout-tournament-probability\\nhttps://math.stackexchange.com/questions/378084/a-probability-problem-involving-a-tournament\\nhttps://math.stackexchange.com/questions/911296/probability-in-a-knock-out-tournament\\nhttps://doubtnut.com/ncert-solutions/class-12-maths-chapter-13-probability-1 \\nhttps://doubtnut.com/ncert-solutions/class-12-maths-chapter-12-linear-programming-1\\nhttps://www.youtube.com/c/MathSolutionsForYou/playlists\\n',\n",
       " '20. I play a gambling game in which I will win k−2 dollars with probability 12k for any k∈ℕ, that is,\\nwith probability 12, I lose 1 dollar;\\nwith probability 14, I win 0 dollar;\\nwith probability 18, I win 1 dollar;\\nwith probability 116, I win 2 dollars;\\nwith probability 132, I win 3 dollars;\\n⋯\\nWhat is the probability that I win more than or equal to 1 dollar and less than 4 dollars',\n",
       " '21. Consider a sample space that is the rectangular region  [0,1]×[0,2] , i.e., the set of all pairs  (𝑥,𝑦)  that satisfy  0≤𝑥≤1  and  0≤𝑦≤2 . Consider a “uniform\" probability law, under which the probability of an event is half of the area of the event. Find the probability of the following events:\\na) The two components  𝑥  and  𝑦  have the same values.\\nb) The value,  𝑥 , of the first component is larger than or equal to the value,  𝑦 , of the second component. \\nc) The value of  𝑥2  is larger than or equal to the value of  𝑦 .\\n',\n",
       " '22. Let the sample space be the set of positive integers and suppose that  𝐏(𝑛)=1/2𝑛 , for  𝑛=1,2,… . Find the probability of the set  {3,6,9,…} , that is, of the set of of positive integers that are multiples of  3 .\\nSolutions\\n\\n\\na) This event is a line, and since a line has zero area, the probability is zero.\\nb) This event is a triangle with vertices at  (0,0) ,  (1,0) ,  (1,1) . Its area is  1/2 , and therefore the probability is  1/4 .\\nc) This event corresponds to the region below the curve  𝑦=𝑥2 , where  𝑥  ranges from 0 to 1. The area of this region is\\n∫10𝑥2𝑑𝑥=𝑥33∣∣∣10=13, \\nand therefore the corresponding probability is  1/6 .\\n\\n\\nUsing countable additivity, and with 𝛼=2−3=1/8, the desired probability is\\n\\n\\n1/2ˆ3+1/2ˆ6+1/2ˆ9+⋯=𝛼+𝛼ˆ2+𝛼ˆ3+⋯= 𝛼/1−𝛼=(1/8)/(1−(1/8))=1/7.']"
      ]
     },
     "execution_count": 142,
     "metadata": {},
     "output_type": "execute_result"
    }
   ],
   "source": [
    "qlist= [x for x in qlist if x]\n",
    "qlist"
   ]
  },
  {
   "cell_type": "code",
   "execution_count": 143,
   "metadata": {},
   "outputs": [],
   "source": [
    "import random\n",
    "import os"
   ]
  },
  {
   "cell_type": "code",
   "execution_count": 146,
   "metadata": {},
   "outputs": [],
   "source": [
    "sampled_ques=random.sample(qlist,k=2)"
   ]
  },
  {
   "cell_type": "code",
   "execution_count": 147,
   "metadata": {},
   "outputs": [
    {
     "data": {
      "text/plain": [
       "['19. https://math.stackexchange.com/questions/2757101/knockout-tournament-probability\\nhttps://math.stackexchange.com/questions/378084/a-probability-problem-involving-a-tournament\\nhttps://math.stackexchange.com/questions/911296/probability-in-a-knock-out-tournament\\nhttps://doubtnut.com/ncert-solutions/class-12-maths-chapter-13-probability-1 \\nhttps://doubtnut.com/ncert-solutions/class-12-maths-chapter-12-linear-programming-1\\nhttps://www.youtube.com/c/MathSolutionsForYou/playlists\\n',\n",
       " '14. Suppose you are trying to determine the bias (p) of a coin. You model the outcome of a coin toss using the Bernoulli distribution with parameter p (probability of heads also called bias). p has a beta prior beta(1,1) which is similar to a uniform distribution from 0 to 1. You now compute the posterior after looking at 1000 tosses out of which 502 are heads and 498 are tails. Which of the following could be the posterior estimate of p ']"
      ]
     },
     "execution_count": 147,
     "metadata": {},
     "output_type": "execute_result"
    }
   ],
   "source": [
    "sampled_ques"
   ]
  },
  {
   "cell_type": "code",
   "execution_count": 148,
   "metadata": {},
   "outputs": [
    {
     "data": {
      "text/plain": [
       "['19.', '14.']"
      ]
     },
     "execution_count": 148,
     "metadata": {},
     "output_type": "execute_result"
    }
   ],
   "source": [
    "[x.split()[0] for x in sampled_ques]"
   ]
  },
  {
   "cell_type": "code",
   "execution_count": null,
   "metadata": {},
   "outputs": [],
   "source": [
    "store"
   ]
  },
  {
   "cell_type": "code",
   "execution_count": 69,
   "metadata": {},
   "outputs": [
    {
     "data": {
      "text/plain": [
       "['machine_learning.md',\n",
       " 'Today_Challenge.md',\n",
       " 'probability.md',\n",
       " 'nlp.md',\n",
       " 'eli5_intutive_series.md',\n",
       " 'sql.md',\n",
       " 'statistics.md',\n",
       " 'apti_questions.md',\n",
       " 'hours_before_interviews_checklist.md',\n",
       " 'product_metrics.md',\n",
       " 'probability_extra.md',\n",
       " 'puzzles.md',\n",
       " 'misc.md',\n",
       " 'ml_system_design_ml_advice.md',\n",
       " 'programming.md',\n",
       " 'some_programming_notes.md']"
      ]
     },
     "execution_count": 69,
     "metadata": {},
     "output_type": "execute_result"
    }
   ],
   "source": [
    "_files = os.listdir('.')\n",
    "# print(_files)\n",
    "\n",
    "\n",
    "_files.remove('README.md')\n",
    "files=[file for file in _files if file.endswith(\".md\")]\n",
    "files"
   ]
  },
  {
   "cell_type": "code",
   "execution_count": 149,
   "metadata": {},
   "outputs": [],
   "source": [
    "def sample_questions(html):\n",
    "    text= \"\".join(BeautifulSoup(html).findAll(text=True))\n",
    "\n",
    "    qlist=text.split('Q.')\n",
    "\n",
    "#     print(qlist)\n",
    "\n",
    "    # qlist[-1].split('A')\n",
    "\n",
    "    qlist[3].split('?')\n",
    "\n",
    "    qlist= [x.split('?')[0] for x in  qlist]\n",
    "\n",
    "    qlist= [x for x in qlist if x]\n",
    "    qlist\n",
    "\n",
    "    import random\n",
    "    import os\n",
    "\n",
    "    sampled_ques=random.sample(qlist,k=2)\n",
    "\n",
    "    ques_num=[x.split()[0] for x in sampled_ques]\n",
    "    \n",
    "#     print(sampled_ques)\n",
    "    \n",
    "    return sampled_ques,ques_num"
   ]
  },
  {
   "cell_type": "code",
   "execution_count": 150,
   "metadata": {},
   "outputs": [
    {
     "name": "stdout",
     "output_type": "stream",
     "text": [
      "machine_learning.md\n",
      "Today_Challenge.md\n",
      "probability.md\n",
      "nlp.md\n"
     ]
    },
    {
     "ename": "IndexError",
     "evalue": "list index out of range",
     "output_type": "error",
     "traceback": [
      "\u001b[0;31m---------------------------------------------------------------------------\u001b[0m",
      "\u001b[0;31mIndexError\u001b[0m                                Traceback (most recent call last)",
      "\u001b[0;32m<ipython-input-150-d3e81214f913>\u001b[0m in \u001b[0;36m<module>\u001b[0;34m\u001b[0m\n\u001b[1;32m      3\u001b[0m \u001b[0;34m\u001b[0m\u001b[0m\n\u001b[1;32m      4\u001b[0m     \u001b[0mprint\u001b[0m\u001b[0;34m(\u001b[0m\u001b[0mfname\u001b[0m\u001b[0;34m)\u001b[0m\u001b[0;34m\u001b[0m\u001b[0;34m\u001b[0m\u001b[0m\n\u001b[0;32m----> 5\u001b[0;31m     \u001b[0msampled_ques\u001b[0m\u001b[0;34m,\u001b[0m\u001b[0mques_num\u001b[0m \u001b[0;34m=\u001b[0m\u001b[0msample_questions\u001b[0m\u001b[0;34m(\u001b[0m\u001b[0mhtml\u001b[0m\u001b[0;34m)\u001b[0m\u001b[0;34m\u001b[0m\u001b[0;34m\u001b[0m\u001b[0m\n\u001b[0m\u001b[1;32m      6\u001b[0m \u001b[0;34m\u001b[0m\u001b[0m\n\u001b[1;32m      7\u001b[0m \u001b[0;31m#     break\u001b[0m\u001b[0;34m\u001b[0m\u001b[0;34m\u001b[0m\u001b[0;34m\u001b[0m\u001b[0m\n",
      "\u001b[0;32m<ipython-input-149-e1eceab78127>\u001b[0m in \u001b[0;36msample_questions\u001b[0;34m(html)\u001b[0m\n\u001b[1;32m      8\u001b[0m     \u001b[0;31m# qlist[-1].split('A')\u001b[0m\u001b[0;34m\u001b[0m\u001b[0;34m\u001b[0m\u001b[0;34m\u001b[0m\u001b[0m\n\u001b[1;32m      9\u001b[0m \u001b[0;34m\u001b[0m\u001b[0m\n\u001b[0;32m---> 10\u001b[0;31m     \u001b[0mqlist\u001b[0m\u001b[0;34m[\u001b[0m\u001b[0;36m3\u001b[0m\u001b[0;34m]\u001b[0m\u001b[0;34m.\u001b[0m\u001b[0msplit\u001b[0m\u001b[0;34m(\u001b[0m\u001b[0;34m'?'\u001b[0m\u001b[0;34m)\u001b[0m\u001b[0;34m\u001b[0m\u001b[0;34m\u001b[0m\u001b[0m\n\u001b[0m\u001b[1;32m     11\u001b[0m \u001b[0;34m\u001b[0m\u001b[0m\n\u001b[1;32m     12\u001b[0m     \u001b[0mqlist\u001b[0m\u001b[0;34m=\u001b[0m \u001b[0;34m[\u001b[0m\u001b[0mx\u001b[0m\u001b[0;34m.\u001b[0m\u001b[0msplit\u001b[0m\u001b[0;34m(\u001b[0m\u001b[0;34m'?'\u001b[0m\u001b[0;34m)\u001b[0m\u001b[0;34m[\u001b[0m\u001b[0;36m0\u001b[0m\u001b[0;34m]\u001b[0m \u001b[0;32mfor\u001b[0m \u001b[0mx\u001b[0m \u001b[0;32min\u001b[0m  \u001b[0mqlist\u001b[0m\u001b[0;34m]\u001b[0m\u001b[0;34m\u001b[0m\u001b[0;34m\u001b[0m\u001b[0m\n",
      "\u001b[0;31mIndexError\u001b[0m: list index out of range"
     ]
    }
   ],
   "source": [
    "for fname in files:\n",
    "    html = markdown.markdown(open(\"{}\".format(fname)).read())\n",
    "    \n",
    "    print(fname)\n",
    "    sampled_ques,ques_num =sample_questions(html)\n",
    "    \n",
    "#     break"
   ]
  },
  {
   "cell_type": "code",
   "execution_count": 151,
   "metadata": {},
   "outputs": [
    {
     "data": {
      "text/plain": [
       "['22. Let the sample space be the set of positive integers and suppose that  𝐏(𝑛)=1/2𝑛 , for  𝑛=1,2,… . Find the probability of the set  {3,6,9,…} , that is, of the set of of positive integers that are multiples of  3 .\\nSolutions\\n\\n\\na) This event is a line, and since a line has zero area, the probability is zero.\\nb) This event is a triangle with vertices at  (0,0) ,  (1,0) ,  (1,1) . Its area is  1/2 , and therefore the probability is  1/4 .\\nc) This event corresponds to the region below the curve  𝑦=𝑥2 , where  𝑥  ranges from 0 to 1. The area of this region is\\n∫10𝑥2𝑑𝑥=𝑥33∣∣∣10=13, \\nand therefore the corresponding probability is  1/6 .\\n\\n\\nUsing countable additivity, and with 𝛼=2−3=1/8, the desired probability is\\n\\n\\n1/2ˆ3+1/2ˆ6+1/2ˆ9+⋯=𝛼+𝛼ˆ2+𝛼ˆ3+⋯= 𝛼/1−𝛼=(1/8)/(1−(1/8))=1/7.',\n",
       " '6. Say we have X ~ Uniform(0, 1) and Y ~ Uniform(0, 1). What is the expected value of the minimum of X and Y']"
      ]
     },
     "execution_count": 151,
     "metadata": {},
     "output_type": "execute_result"
    }
   ],
   "source": [
    "sampled_ques"
   ]
  },
  {
   "cell_type": "code",
   "execution_count": 152,
   "metadata": {},
   "outputs": [
    {
     "data": {
      "text/plain": [
       "['22.', '6.']"
      ]
     },
     "execution_count": 152,
     "metadata": {},
     "output_type": "execute_result"
    }
   ],
   "source": [
    "ques_num"
   ]
  },
  {
   "cell_type": "markdown",
   "metadata": {},
   "source": [
    "### Converting HTML into markdown"
   ]
  },
  {
   "cell_type": "code",
   "execution_count": 14,
   "metadata": {},
   "outputs": [],
   "source": [
    "# !pip install markdownify\n"
   ]
  },
  {
   "cell_type": "code",
   "execution_count": 12,
   "metadata": {},
   "outputs": [
    {
     "data": {
      "text/plain": [
       "'<?xml version=\"1.0\" encoding=\"UTF-8\"?>\\n<!DOCTYPE html PUBLIC \"-//W3C//DTD XHTML 1.0 Transitional//EN\" \"http://www.w3.org/TR/xhtml1/DTD/xhtml1-transitional.dtd\">\\n<html><head><meta http-equiv=\"Content-Type\" content=\"text/html; charset=UTF-8\"/><meta name=\"exporter-version\" content=\"Evernote Mac 7.14 (458244)\"/><meta name=\"altitude\" content=\"234.5264892578125\"/><meta name=\"author\" content=\"rinkuved01@gmail.com\"/><meta name=\"created\" content=\"2020-04-11 07:50:21 +0000\"/><meta name=\"latitude\" content=\"28.4588623046875\"/><meta name=\"longitude\" content=\"77.09224138292272\"/><meta name=\"source\" content=\"desktop.mac\"/><meta name=\"updated\" content=\"2020-04-11 10:13:31 +0000\"/><title>TM Feedback- TMOD</title></head><body><h3>By Vijay</h3><div>Hi Ved. Your theme was unique and well researched. As TMOD, you\\'ll have a good stage time and hence content is king. I have a couple of suggestions that can help you improve your TMOD performance</div><div>1. TMODs job is to introduce the general structure of a toastmasters meeting. This was missing in today\\'s performance.</div><div>2. Attention span of guests speakers would be less\\xa0\\xa0so you can template the speaking in this manner\\xa0\\xa0</div><div>a. Intro to theme</div><div>b. Structure of Toastmasters Meeting</div><div>c. Introduce GE</div><div>d. Theme related point 1</div><div>e. Prepared speech section with speaker introduction and 1 min silence for feedback at the end of speech</div><div>f. Theme related Point 2</div><div>g. Table topics session </div><div>h.\\xa0\\xa0relate them to evaluation and introduce GE</div><div>i. Post evaluation- Concluding remarks with short summaries of theme point 1 &amp; 2. </div><div>J. Hand over stage to Presiding officer\\xa0\\xa0</div><div><br/></div><div>Hope this helps</div><div><br/></div><h3>By Prateek</h3><div>-- Talk in points. Tell about structure. Keep in three points.</div><div>-- Point 1 -summary -details</div><div>-- Rhetorical quest and take a pause.</div><div>-- Make it more relateble.</div><div>-- Take at least one relatable example. Challenge- Very relatabls</div><div><br/></div><div><br/></div><ol><li><div>Funny statement. TTM</div></li><li><div>Examples- give hint</div></li><li><div>Self - 1-2 liners.engage - I think you all agree.</div><div><br/></div></li></ol><div><br/></div><div>Oreo</div><div>Why wala approach</div><div>Gimick wala approach</div><div>Grammerarian Avinash</div><div><br/></div><div><br/></div><h3>By Siddharth</h3><div>Hi Ved, I loved your TMOD session today, especially how you handled and anchored the meeting only for a small audience... you were very well prepared, and that\\'s the best thing about you,</div><div><br/></div><div>If one thing I can recommend you is to have an interaction with the audience, although I do agree audience was not responsive to your questions, you can point and ask the question, you will atleast get a response and build upon that to create new exciting content 🙂</div><div>Any, in general, improvement areas you found while I was speaking?</div><div>probably interacting with the audience gives you the pause you need and then react to their ideas and have a comfortable talks with the audience...</div><div><br/></div><div><br/></div></body></html>'"
      ]
     },
     "execution_count": 12,
     "metadata": {},
     "output_type": "execute_result"
    }
   ],
   "source": [
    "# ?markdownify\n",
    "file"
   ]
  },
  {
   "cell_type": "code",
   "execution_count": 3,
   "metadata": {},
   "outputs": [
    {
     "name": "stdout",
     "output_type": "stream",
     "text": [
      "xml version=\"1.0\" encoding=\"UTF-8\"? html PUBLIC \"-//W3C//DTD XHTML 1.0 Transitional//EN\" \"http://www.w3.org/TR/xhtml1/DTD/xhtml1-transitional.dtd\" TM Feedback- TMOD### By Vijay\n",
      "\n",
      "Hi Ved. Your theme was unique and well researched. As TMOD, you'll have a good stage time and hence content is king. I have a couple of suggestions that can help you improve your TMOD performance1. TMODs job is to introduce the general structure of a toastmasters meeting. This was missing in today's performance.2. Attention span of guests speakers would be less so you can template the speaking in this manner a. Intro to themeb. Structure of Toastmasters Meetingc. Introduce GEd. Theme related point 1e. Prepared speech section with speaker introduction and 1 min silence for feedback at the end of speechf. Theme related Point 2g. Table topics session h. relate them to evaluation and introduce GEi. Post evaluation- Concluding remarks with short summaries of theme point 1 & 2. J. Hand over stage to Presiding officer   \n",
      "Hope this helps  \n",
      "### By Prateek\n",
      "\n",
      "-- Talk in points. Tell about structure. Keep in three points.-- Point 1 -summary -details-- Rhetorical quest and take a pause.-- Make it more relateble.-- Take at least one relatable example. Challenge- Very relatabls  \n",
      "  \n",
      "\n",
      "1. Funny statement. TTM\n",
      "2. Examples- give hint\n",
      "3. Self - 1-2 liners.engage - I think you all agree.  \n",
      "\n",
      "\n",
      "  \n",
      "OreoWhy wala approachGimick wala approachGrammerarian Avinash  \n",
      "  \n",
      "### By Siddharth\n",
      "\n",
      "Hi Ved, I loved your TMOD session today, especially how you handled and anchored the meeting only for a small audience... you were very well prepared, and that's the best thing about you,  \n",
      "If one thing I can recommend you is to have an interaction with the audience, although I do agree audience was not responsive to your questions, you can point and ask the question, you will atleast get a response and build upon that to create new exciting content 🙂Any, in general, improvement areas you found while I was speaking?probably interacting with the audience gives you the pause you need and then react to their ideas and have a comfortable talks with the audience...  \n",
      "  \n",
      "\n"
     ]
    }
   ],
   "source": [
    "from markdownify import markdownify\n",
    "\n",
    "file = open('./my_note/TM Feedback- TMOD.html', \"r\").read()\n",
    "html = markdownify(file, heading_style=\"ATX\")\n",
    "\n",
    "print(html)"
   ]
  },
  {
   "cell_type": "code",
   "execution_count": null,
   "metadata": {},
   "outputs": [],
   "source": []
  },
  {
   "cell_type": "code",
   "execution_count": null,
   "metadata": {},
   "outputs": [],
   "source": []
  },
  {
   "cell_type": "code",
   "execution_count": null,
   "metadata": {},
   "outputs": [],
   "source": []
  },
  {
   "cell_type": "code",
   "execution_count": null,
   "metadata": {},
   "outputs": [],
   "source": []
  },
  {
   "cell_type": "code",
   "execution_count": 1,
   "metadata": {},
   "outputs": [],
   "source": [
    "fname = './my_note/TM Feedback- TMOD.html'"
   ]
  },
  {
   "cell_type": "code",
   "execution_count": 2,
   "metadata": {},
   "outputs": [],
   "source": [
    "HtmlFile = open(fname, 'r', encoding='utf-8')\n",
    "source_code = HtmlFile.read() "
   ]
  },
  {
   "cell_type": "code",
   "execution_count": 41,
   "metadata": {},
   "outputs": [
    {
     "data": {
      "text/plain": [
       "['<?xml version=\"1.0\" encoding=\"UTF-8\"?>\\n<!DOCTYPE html PUBLIC \"-//W3C//DTD XHTML 1.0 Transitional//EN\" \"http://www.w3.org/TR/xhtml1/DTD/xhtml1-transitional.dtd\">\\n<html><head><meta http-equiv=\"Content-Type\" content=\"text/html; charset=UTF-8\"/><meta name=\"exporter-version\" content=\"Evernote Mac 7.14 (458244)\"/><meta name=\"altitude\" content=\"234.5264892578125\"/><meta name=\"author\" content=\"rinkuved01@gmail.com\"/><meta name=\"created\" content=\"2020-04-11 07:50:21 +0000\"/><meta name=\"latitude\" content=\"28.4588623046875\"/><meta name=\"longitude\" content=\"77.09224138292272\"/><meta name=\"source\" content=\"desktop.mac\"/><meta name=\"updated\" content=\"2020-04-11 10:13:31 +0000\"/><title>TM Feedback- TMOD</title></head><body><h3>',\n",
       " \" Vijay</h3><div>Hi Ved. Your theme was unique and well researched. As TMOD, you'll have a good stage time and hence content is king. I have a couple of suggestions that can help you improve your TMOD performance</div><div>1. TMODs job is to introduce the general structure of a toastmasters meeting. This was missing in today's performance.</div><div>2. Attention span of guests speakers would be less\\xa0\\xa0so you can template the speaking in this manner\\xa0\\xa0</div><div>a. Intro to theme</div><div>b. Structure of Toastmasters Meeting</div><div>c. Introduce GE</div><div>d. Theme related point 1</div><div>e. Prepared speech section with speaker introduction and 1 min silence for feedback at the end of speech</div><div>f. Theme related Point 2</div><div>g. Table topics session </div><div>h.\\xa0\\xa0relate them to evaluation and introduce GE</div><div>i. Post evaluation- Concluding remarks with short summaries of theme point 1 &amp; 2. </div><div>J. Hand over stage to Presiding officer\\xa0\\xa0</div><div><br/></div><div>Hope this helps</div><div><br/></div><h3>\",\n",
       " ' Prateek</h3><div>-- Talk in points. Tell about structure. Keep in three points.</div><div>-- Point 1 -summary -details</div><div>-- Rhetorical quest and take a pause.</div><div>-- Make it more relateble.</div><div>-- Take at least one relatable example. Challenge- Very relatabls</div><div><br/></div><div><br/></div><ol><li><div>Funny statement. TTM</div></li><li><div>Examples- give hint</div></li><li><div>Self - 1-2 liners.engage - I think you all agree.</div><div><br/></div></li></ol><div><br/></div><div>Oreo</div><div>Why wala approach</div><div>Gimick wala approach</div><div>Grammerarian Avinash</div><div><br/></div><div><br/></div><h3>',\n",
       " \" Siddharth</h3><div>Hi Ved, I loved your TMOD session today, especially how you handled and anchored the meeting only for a small audience... you were very well prepared, and that's the best thing about you,</div><div><br/></div><div>If one thing I can recommend you is to have an interaction with the audience, although I do agree audience was not responsive to your questions, you can point and ask the question, you will atleast get a response and build upon that to create new exciting content 🙂</div><div>Any, in general, improvement areas you found while I was speaking?</div><div>probably interacting with the audience gives you the pause you need and then react to their ideas and have a comfortable talks with the audience...</div><div><br/></div><div><br/></div></body></html>\"]"
      ]
     },
     "execution_count": 41,
     "metadata": {},
     "output_type": "execute_result"
    }
   ],
   "source": [
    "source_code.split('By')"
   ]
  },
  {
   "cell_type": "code",
   "execution_count": 43,
   "metadata": {},
   "outputs": [
    {
     "data": {
      "text/plain": [
       "\"<div>Hi Ved. Your theme was unique and well researched. As TMOD, you'll have a good stage time and hence content is king. I have a couple of suggestions that can help you improve your TMOD performance</div><div>1. TMODs job is to introduce the general structure of a toastmasters meeting. This was missing in today's performance.</div><div>2. Attention span of guests speakers would be less\\xa0\\xa0so you can template the speaking in this manner\\xa0\\xa0</div><div>a. Intro to theme</div><div>b. Structure of Toastmasters Meeting</div><div>c. Introduce GE</div><div>d. Theme related point 1</div><div>e. Prepared speech section with speaker introduction and 1 min silence for feedback at the end of speech</div><div>f. Theme related Point 2</div><div>g. Table topics session </div><div>h.\\xa0\\xa0relate them to evaluation and introduce GE</div><div>i. Post evaluation- Concluding remarks with short summaries of theme point 1 &amp; 2. </div><div>J. Hand over stage to Presiding officer\\xa0\\xa0</div><div><br/></div><div>Hope this helps</div><div><br/></div><\""
      ]
     },
     "execution_count": 43,
     "metadata": {},
     "output_type": "execute_result"
    }
   ],
   "source": [
    "source_code.split('h3>')[2]"
   ]
  },
  {
   "cell_type": "code",
   "execution_count": 45,
   "metadata": {},
   "outputs": [],
   "source": [
    "tt=BeautifulSoup(source_code.split('h3>')[2])"
   ]
  },
  {
   "cell_type": "code",
   "execution_count": 46,
   "metadata": {},
   "outputs": [
    {
     "data": {
      "text/plain": [
       "\"Hi Ved. Your theme was unique and well researched. As TMOD, you'll have a good stage time and hence content is king. I have a couple of suggestions that can help you improve your TMOD performance 1. TMODs job is to introduce the general structure of a toastmasters meeting. This was missing in today's performance. 2. Attention span of guests speakers would be less\\xa0\\xa0so you can template the speaking in this manner a. Intro to theme b. Structure of Toastmasters Meeting c. Introduce GE d. Theme related point 1 e. Prepared speech section with speaker introduction and 1 min silence for feedback at the end of speech f. Theme related Point 2 g. Table topics session h.\\xa0\\xa0relate them to evaluation and introduce GE i. Post evaluation- Concluding remarks with short summaries of theme point 1 & 2. J. Hand over stage to Presiding officer Hope this helps\""
      ]
     },
     "execution_count": 46,
     "metadata": {},
     "output_type": "execute_result"
    }
   ],
   "source": [
    "tt.get_text(\" \",strip=True)"
   ]
  },
  {
   "cell_type": "code",
   "execution_count": 4,
   "metadata": {},
   "outputs": [],
   "source": [
    "import urllib3\n",
    "from bs4 import BeautifulSoup"
   ]
  },
  {
   "cell_type": "code",
   "execution_count": 9,
   "metadata": {},
   "outputs": [
    {
     "name": "stdout",
     "output_type": "stream",
     "text": [
      "TM Feedback- TMOD\n"
     ]
    },
    {
     "ename": "AttributeError",
     "evalue": "'NoneType' object has no attribute 'string'",
     "output_type": "error",
     "traceback": [
      "\u001b[0;31m---------------------------------------------------------------------------\u001b[0m",
      "\u001b[0;31mAttributeError\u001b[0m                            Traceback (most recent call last)",
      "\u001b[0;32m<ipython-input-9-89be967747e8>\u001b[0m in \u001b[0;36m<module>\u001b[0;34m\u001b[0m\n\u001b[1;32m      7\u001b[0m \u001b[0;31m#print (soup.title)\u001b[0m\u001b[0;34m\u001b[0m\u001b[0;34m\u001b[0m\u001b[0;34m\u001b[0m\u001b[0m\n\u001b[1;32m      8\u001b[0m \u001b[0mprint\u001b[0m\u001b[0;34m(\u001b[0m\u001b[0msoup\u001b[0m\u001b[0;34m.\u001b[0m\u001b[0mtitle\u001b[0m\u001b[0;34m.\u001b[0m\u001b[0mstring\u001b[0m\u001b[0;34m)\u001b[0m\u001b[0;34m\u001b[0m\u001b[0;34m\u001b[0m\u001b[0m\n\u001b[0;32m----> 9\u001b[0;31m \u001b[0mprint\u001b[0m\u001b[0;34m(\u001b[0m\u001b[0msoup\u001b[0m\u001b[0;34m.\u001b[0m\u001b[0mh1\u001b[0m\u001b[0;34m.\u001b[0m\u001b[0mstring\u001b[0m\u001b[0;34m)\u001b[0m\u001b[0;34m\u001b[0m\u001b[0;34m\u001b[0m\u001b[0m\n\u001b[0m\u001b[1;32m     10\u001b[0m \u001b[0mprint\u001b[0m\u001b[0;34m(\u001b[0m\u001b[0msoup\u001b[0m\u001b[0;34m.\u001b[0m\u001b[0mh2\u001b[0m\u001b[0;34m.\u001b[0m\u001b[0mstring\u001b[0m\u001b[0;34m)\u001b[0m\u001b[0;34m\u001b[0m\u001b[0;34m\u001b[0m\u001b[0m\n\u001b[1;32m     11\u001b[0m \u001b[0mprint\u001b[0m\u001b[0;34m(\u001b[0m\u001b[0msoup\u001b[0m\u001b[0;34m.\u001b[0m\u001b[0mh3\u001b[0m\u001b[0;34m.\u001b[0m\u001b[0mstring\u001b[0m\u001b[0;34m)\u001b[0m\u001b[0;34m\u001b[0m\u001b[0;34m\u001b[0m\u001b[0m\n",
      "\u001b[0;31mAttributeError\u001b[0m: 'NoneType' object has no attribute 'string'"
     ]
    }
   ],
   "source": [
    "\n",
    "http = urllib3.PoolManager()\n",
    "url = fname #'http://python-ds.com'\n",
    "# Fetch the html file\n",
    "# response = http.request('GET', url)\n",
    "# soup = BeautifulSoup(fname,'html.parser')\n",
    "soup = BeautifulSoup(open(fname))\n",
    "#print (soup.title)\n",
    "print(soup.title.string)\n",
    "print(soup.h1.string)\n",
    "print(soup.h2.string)\n",
    "print(soup.h3.string)\n",
    "print(soup.a.string)\n",
    "print(soup.b.string)\n"
   ]
  },
  {
   "cell_type": "code",
   "execution_count": 38,
   "metadata": {},
   "outputs": [
    {
     "data": {
      "text/plain": [
       "\"TM Feedback- TMOD By Vijay Hi Ved. Your theme was unique and well researched. As TMOD, you'll have a good stage time and hence content is king. I have a couple of suggestions that can help you improve your TMOD performance 1. TMODs job is to introduce the general structure of a toastmasters meeting. This was missing in today's performance. 2. Attention span of guests speakers would be less\\xa0\\xa0so you can template the speaking in this manner a. Intro to theme b. Structure of Toastmasters Meeting c. Introduce GE d. Theme related point 1 e. Prepared speech section with speaker introduction and 1 min silence for feedback at the end of speech f. Theme related Point 2 g. Table topics session h.\\xa0\\xa0relate them to evaluation and introduce GE i. Post evaluation- Concluding remarks with short summaries of theme point 1 & 2. J. Hand over stage to Presiding officer Hope this helps By Prateek -- Talk in points. Tell about structure. Keep in three points. -- Point 1 -summary -details -- Rhetorical quest and take a pause. -- Make it more relateble. -- Take at least one relatable example. Challenge- Very relatabls Funny statement. TTM Examples- give hint Self - 1-2 liners.engage - I think you all agree. Oreo Why wala approach Gimick wala approach Grammerarian Avinash By Siddharth Hi Ved, I loved your TMOD session today, especially how you handled and anchored the meeting only for a small audience... you were very well prepared, and that's the best thing about you, If one thing I can recommend you is to have an interaction with the audience, although I do agree audience was not responsive to your questions, you can point and ask the question, you will atleast get a response and build upon that to create new exciting content 🙂 Any, in general, improvement areas you found while I was speaking? probably interacting with the audience gives you the pause you need and then react to their ideas and have a comfortable talks with the audience...\""
      ]
     },
     "execution_count": 38,
     "metadata": {},
     "output_type": "execute_result"
    }
   ],
   "source": [
    "soup.get_text(\" \",strip=True)"
   ]
  },
  {
   "cell_type": "code",
   "execution_count": 33,
   "metadata": {},
   "outputs": [
    {
     "data": {
      "text/plain": [
       "\"TM Feedback- TMODBy VijayHi Ved. Your theme was unique and well researched. As TMOD, you'll have a good stage time and hence content is king. I have a couple of suggestions that can help you improve your TMOD performance1. TMODs job is to introduce the general structure of a toastmasters meeting. This was missing in today's performance.2. Attention span of guests speakers would be less\\xa0\\xa0so you can template the speaking in this manner\\xa0\\xa0a. Intro to themeb. Structure of Toastmasters Meetingc. Introduce GEd. Theme related point 1e. Prepared speech section with speaker introduction and 1 min silence for feedback at the end of speechf. Theme related Point 2g. Table topics session h.\\xa0\\xa0relate them to evaluation and introduce GEi. Post evaluation- Concluding remarks with short summaries of theme point 1 & 2. J. Hand over stage to Presiding officer\\xa0\\xa0Hope this helpsBy Prateek-- Talk in points. Tell about structure. Keep in three points.-- Point 1 -summary -details-- Rhetorical quest and take a pause.-- Make it more relateble.-- Take at least one relatable example. Challenge- Very relatablsFunny statement. TTMExamples- give hintSelf - 1-2 liners.engage - I think you all agree.OreoWhy wala approachGimick wala approachGrammerarian AvinashBy SiddharthHi Ved, I loved your TMOD session today, especially how you handled and anchored the meeting only for a small audience... you were very well prepared, and that's the best thing about you,If one thing I can recommend you is to have an interaction with the audience, although I do agree audience was not responsive to your questions, you can point and ask the question, you will atleast get a response and build upon that to create new exciting content 🙂Any, in general, improvement areas you found while I was speaking?probably interacting with the audience gives you the pause you need and then react to their ideas and have a comfortable talks with the audience...\""
      ]
     },
     "execution_count": 33,
     "metadata": {},
     "output_type": "execute_result"
    }
   ],
   "source": [
    "soup.text.replace('\\n', ' ')"
   ]
  },
  {
   "cell_type": "code",
   "execution_count": 32,
   "metadata": {},
   "outputs": [
    {
     "data": {
      "text/plain": [
       "[<?xml version=\"1.0\" encoding=\"UTF-8\"?><!DOCTYPE html PUBLIC \"-//W3C//DTD XHTML 1.0 Transitional//EN\" \"http://www.w3.org/TR/xhtml1/DTD/xhtml1-transitional.dtd\">\n",
       " <html><head><meta content=\"text/html; charset=utf-8\" http-equiv=\"Content-Type\"/><meta content=\"Evernote Mac 7.14 (458244)\" name=\"exporter-version\"/><meta content=\"234.5264892578125\" name=\"altitude\"/><meta content=\"rinkuved01@gmail.com\" name=\"author\"/><meta content=\"2020-04-11 07:50:21 +0000\" name=\"created\"/><meta content=\"28.4588623046875\" name=\"latitude\"/><meta content=\"77.09224138292272\" name=\"longitude\"/><meta content=\"desktop.mac\" name=\"source\"/><meta content=\"2020-04-11 10:13:31 +0000\" name=\"updated\"/><title>TM Feedback- TMOD</title></head><body><h3>By Vijay</h3><div>Hi Ved. Your theme was unique and well researched. As TMOD, you'll have a good stage time and hence content is king. I have a couple of suggestions that can help you improve your TMOD performance</div><div>1. TMODs job is to introduce the general structure of a toastmasters meeting. This was missing in today's performance.</div><div>2. Attention span of guests speakers would be less  so you can template the speaking in this manner  </div><div>a. Intro to theme</div><div>b. Structure of Toastmasters Meeting</div><div>c. Introduce GE</div><div>d. Theme related point 1</div><div>e. Prepared speech section with speaker introduction and 1 min silence for feedback at the end of speech</div><div>f. Theme related Point 2</div><div>g. Table topics session </div><div>h.  relate them to evaluation and introduce GE</div><div>i. Post evaluation- Concluding remarks with short summaries of theme point 1 &amp; 2. </div><div>J. Hand over stage to Presiding officer  </div><div><br/></div><div>Hope this helps</div><div><br/></div><h3>By Prateek</h3><div>-- Talk in points. Tell about structure. Keep in three points.</div><div>-- Point 1 -summary -details</div><div>-- Rhetorical quest and take a pause.</div><div>-- Make it more relateble.</div><div>-- Take at least one relatable example. Challenge- Very relatabls</div><div><br/></div><div><br/></div><ol><li><div>Funny statement. TTM</div></li><li><div>Examples- give hint</div></li><li><div>Self - 1-2 liners.engage - I think you all agree.</div><div><br/></div></li></ol><div><br/></div><div>Oreo</div><div>Why wala approach</div><div>Gimick wala approach</div><div>Grammerarian Avinash</div><div><br/></div><div><br/></div><h3>By Siddharth</h3><div>Hi Ved, I loved your TMOD session today, especially how you handled and anchored the meeting only for a small audience... you were very well prepared, and that's the best thing about you,</div><div><br/></div><div>If one thing I can recommend you is to have an interaction with the audience, although I do agree audience was not responsive to your questions, you can point and ask the question, you will atleast get a response and build upon that to create new exciting content 🙂</div><div>Any, in general, improvement areas you found while I was speaking?</div><div>probably interacting with the audience gives you the pause you need and then react to their ideas and have a comfortable talks with the audience...</div><div><br/></div><div><br/></div></body></html>]"
      ]
     },
     "execution_count": 32,
     "metadata": {},
     "output_type": "execute_result"
    }
   ],
   "source": [
    "soup.tagStack"
   ]
  },
  {
   "cell_type": "code",
   "execution_count": null,
   "metadata": {},
   "outputs": [],
   "source": []
  }
 ],
 "metadata": {
  "kernelspec": {
   "display_name": "Python 3",
   "language": "python",
   "name": "python3"
  },
  "language_info": {
   "codemirror_mode": {
    "name": "ipython",
    "version": 3
   },
   "file_extension": ".py",
   "mimetype": "text/x-python",
   "name": "python",
   "nbconvert_exporter": "python",
   "pygments_lexer": "ipython3",
   "version": "3.7.6"
  },
  "toc": {
   "base_numbering": 1,
   "nav_menu": {},
   "number_sections": true,
   "sideBar": true,
   "skip_h1_title": false,
   "title_cell": "Table of Contents",
   "title_sidebar": "Contents",
   "toc_cell": true,
   "toc_position": {},
   "toc_section_display": true,
   "toc_window_display": false
  }
 },
 "nbformat": 4,
 "nbformat_minor": 4
}
